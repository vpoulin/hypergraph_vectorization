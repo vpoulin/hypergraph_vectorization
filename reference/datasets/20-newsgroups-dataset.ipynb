{
 "cells": [
  {
   "cell_type": "code",
   "execution_count": null,
   "id": "c2797eda",
   "metadata": {},
   "outputs": [],
   "source": [
    "%load_ext autoreload\n",
    "%autoreload 2"
   ]
  },
  {
   "cell_type": "code",
   "execution_count": null,
   "id": "75cd6b19",
   "metadata": {},
   "outputs": [],
   "source": [
    "from functools import partial\n",
    "\n",
    "from src.data import DataSource, Dataset, DatasetGraph\n",
    "from src.data.process_functions import process_20_newsgroups\n",
    "from src import paths"
   ]
  },
  {
   "cell_type": "code",
   "execution_count": null,
   "id": "468af192",
   "metadata": {},
   "outputs": [],
   "source": [
    "# Set up a 20 newsgroups dataset\n",
    "\n",
    "ds_name = '20_newsgroups'\n",
    "output_ds_name = ds_name\n",
    "dsrc = DataSource(ds_name)"
   ]
  },
  {
   "cell_type": "code",
   "execution_count": null,
   "id": "5f5e8879",
   "metadata": {},
   "outputs": [],
   "source": [
    "license = \"\"\"\n",
    "Custom Academic License: \"You may use this material free of charge for any educational purpose, provided attribution is given in any lectures or publications that make use of this material.\" As in http://kdd.ics.uci.edu/databases/20newsgroups/20newsgroups.data.html.\n",
    "\"\"\"\n",
    "metadata = \"\"\"\n",
    "The 20 Newsgroups dataset is a collection of approximately 20,000 newsgroup documents, partitioned (nearly) evenly across 20 different newsgroups.\n",
    "\n",
    "The data is organized into 20 different newsgroups, each corresponding to a different topic. Some of the newsgroups are very closely related to each other (e.g. comp.sys.ibm.pc.hardware / comp.sys.mac.hardware), while others are highly unrelated (e.g misc.forsale / soc.religion.christian).\n",
    "\n",
    "Here are the categories:\n",
    "\n",
    " * `alt.atheism`,\n",
    " * `comp.graphics`,\n",
    " * `comp.os.ms-windows.misc`,\n",
    " * `comp.sys.ibm.pc.hardware`,\n",
    " * `comp.sys.mac.hardware`,\n",
    " * `comp.windows.x`,\n",
    " * `misc.forsale`,\n",
    " * `rec.autos`,\n",
    " * `rec.motorcycles`,\n",
    " * `rec.sport.baseball`,\n",
    " * `rec.sport.hockey`,\n",
    " * `sci.crypt`,\n",
    " * `sci.electronics`,\n",
    " * `sci.med`,\n",
    " * `sci.space`,\n",
    " * `soc.religion.christian`,\n",
    " * `talk.politics.guns`,\n",
    " * `talk.politics.mideast`,\n",
    " * `talk.politics.misc`,\n",
    " * `talk.religion.misc`\n",
    "\n",
    "The current version is obtained by wrapping `sklearn.datasets.fetch_20newsgroups`, which comes from this [20 newsgroups webpage](http://qwone.com/~jason/20Newsgroups/).\n",
    "\n",
    "By default we follow the sklearn suggestion to set `remove=('headers', 'footers', 'quotes')` to avoid overfitting.\n",
    "\"\"\""
   ]
  },
  {
   "cell_type": "code",
   "execution_count": null,
   "id": "3a4408e5",
   "metadata": {},
   "outputs": [],
   "source": [
    "dsrc.add_metadata(contents=metadata, force=True)\n",
    "dsrc.add_metadata(contents=license, kind='LICENSE', force=True)"
   ]
  },
  {
   "cell_type": "code",
   "execution_count": null,
   "id": "bdc46bc7",
   "metadata": {},
   "outputs": [],
   "source": [
    "process_function = process_20_newsgroups\n",
    "process_kwargs = {}\n",
    "\n",
    "dsrc.process_function = partial(process_function, **process_kwargs)\n",
    "#workflow.add_datasource(dsrc)\n",
    "\n",
    "dag = DatasetGraph(catalog_path=paths['catalog_path'])\n",
    "dag.add_source(output_dataset=output_ds_name, datasource_name=ds_name, force=True)"
   ]
  },
  {
   "cell_type": "code",
   "execution_count": null,
   "id": "8b74d1b6",
   "metadata": {},
   "outputs": [],
   "source": [
    "%%time\n",
    "ds = Dataset.load(ds_name)"
   ]
  },
  {
   "cell_type": "code",
   "execution_count": null,
   "id": "654fb425",
   "metadata": {},
   "outputs": [],
   "source": [
    "len(ds.data) == 18846"
   ]
  },
  {
   "cell_type": "code",
   "execution_count": null,
   "id": "8d4c2a97",
   "metadata": {},
   "outputs": [],
   "source": []
  }
 ],
 "metadata": {
  "kernelspec": {
   "display_name": "Python [conda env:docmap_playground]",
   "language": "python",
   "name": "conda-env-docmap_playground-py"
  },
  "language_info": {
   "codemirror_mode": {
    "name": "ipython",
    "version": 3
   },
   "file_extension": ".py",
   "mimetype": "text/x-python",
   "name": "python",
   "nbconvert_exporter": "python",
   "pygments_lexer": "ipython3",
   "version": "3.7.10"
  }
 },
 "nbformat": 4,
 "nbformat_minor": 5
}
