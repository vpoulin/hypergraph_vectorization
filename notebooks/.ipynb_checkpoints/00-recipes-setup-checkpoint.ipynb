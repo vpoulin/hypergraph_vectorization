{
 "cells": [
  {
   "cell_type": "markdown",
   "id": "cdd1b4c4-2b53-41c2-9edc-7dc06f3ff5ae",
   "metadata": {},
   "source": [
    "## Preparing the 20 Newsgroups Dataset"
   ]
  },
  {
   "cell_type": "markdown",
   "id": "e86fab39-c678-4247-b854-938985d091e9",
   "metadata": {},
   "source": [
    "We will need some data to work with. For the purposes of this demo we will make use of the 20 newsgroups dataset. Even though 20 newsgroups is a toy dataset, it offers enough complications to show how we can piece together embeddings using ``vectorizers``."
   ]
  },
  {
   "cell_type": "code",
   "execution_count": 1,
   "id": "c5bfc53a-bcae-4a52-b09d-3d2c8d662917",
   "metadata": {},
   "outputs": [],
   "source": [
    "%load_ext autoreload\n",
    "%autoreload 2"
   ]
  },
  {
   "cell_type": "code",
   "execution_count": 3,
   "id": "d04d8d90-48f5-4971-834f-539a2b2df938",
   "metadata": {},
   "outputs": [],
   "source": [
    "# from src import paths\n",
    "# from src.data import Dataset"
   ]
  },
  {
   "cell_type": "code",
   "execution_count": 2,
   "id": "f8417332-5659-4467-bec3-472fd2462d60",
   "metadata": {},
   "outputs": [],
   "source": [
    "import numpy as np\n",
    "import matplotlib.colors\n",
    "import seaborn as sns\n",
    "import pandas as pd"
   ]
  },
  {
   "cell_type": "code",
   "execution_count": 8,
   "id": "115835a3-ecb6-4440-accc-527f5d841202",
   "metadata": {},
   "outputs": [],
   "source": [
    "import csv"
   ]
  },
  {
   "cell_type": "code",
   "execution_count": 3,
   "id": "0f7118a8-b891-4763-b085-6e334d565c5a",
   "metadata": {},
   "outputs": [],
   "source": [
    "def read_format_recipes(recipe_min_size=3):\n",
    "    ingredients_id = pd.read_csv('../data/cat-edge-Cooking/node-labels.txt', sep='\\t', header=None)\n",
    "    ingredients_id.index = [x+1 for x in ingredients_id.index]\n",
    "    ingredients_id.columns = ['Ingredient']\n",
    "    \n",
    "    recipes_with_id = []\n",
    "    with open('../data/cat-edge-Cooking/hyperedges.txt', newline = '') as hyperedges:\n",
    "        hyperedge_reader = csv.reader(hyperedges, delimiter='\\t')\n",
    "        for hyperedge in hyperedge_reader:\n",
    "            recipes_with_id.append(hyperedge)\n",
    "            \n",
    "    recipes_all = [[ingredients_id.loc[int(i)]['Ingredient'] for i in x] for x in recipes_with_id]\n",
    "    \n",
    "    # Keep recipes with 3 ingredients and more\n",
    "    keep_recipes = np.where(np.array([len(x) for x in recipes_all])>=recipe_min_size)[0]\n",
    "    recipes = [recipes_all[i] for i in keep_recipes]\n",
    "    \n",
    "    recipes_label_id_all = pd.read_csv('../data/cat-edge-Cooking/hyperedge-labels.txt', sep='\\t', header=None)\n",
    "    recipes_label_id_all.columns = ['label']\n",
    "    recipes_label_id = recipes_label_id_all.iloc[keep_recipes].reset_index()\n",
    "\n",
    "    label_name = pd.read_csv('../data/cat-edge-Cooking/hyperedge-label-identities.txt', sep='\\t', header=None)\n",
    "    label_name.columns = ['country']\n",
    "    label_name.index = [x+1 for x in label_name.index]\n",
    "    \n",
    "    grps_tmp = {\n",
    "        'asian' : ('chinese', 'filipino', 'japanese','korean', 'thai', 'vietnamese'),\n",
    "        'american' : ('brazilian', 'mexican', 'southern_us'),\n",
    "        'english' : ('british', 'irish'),\n",
    "        'islands' : ('cajun_creole', 'jamaican'),\n",
    "        'europe' : ('french', 'italian', 'spanish'),\n",
    "        'others' : ('greek', 'indian', 'moroccan', 'russian')\n",
    "    }\n",
    "\n",
    "    grps = {key:[key+'.'+x for x in value] for key, value in grps_tmp.items()}\n",
    "\n",
    "\n",
    "    color_key = {}\n",
    "    for l, c in zip(grps['asian'], sns.color_palette(\"Blues\", 6)[0:]):\n",
    "        color_key[l] = matplotlib.colors.rgb2hex(c)\n",
    "    for l, c in zip(grps['american'], sns.color_palette(\"Purples\", 4)[1:]):\n",
    "        color_key[l] = matplotlib.colors.rgb2hex(c)\n",
    "    for l, c in zip(grps['others'], sns.color_palette(\"YlOrRd\", 4)):\n",
    "        color_key[l] = matplotlib.colors.rgb2hex(c)\n",
    "    for l, c in zip(grps['europe'], sns.color_palette(\"light:teal\", 4)[1:]):\n",
    "        color_key[l] = matplotlib.colors.rgb2hex(c)\n",
    "    for l, c in zip(grps['islands'], sns.color_palette(\"light:#660033\", 4)[1:3]):\n",
    "        color_key[l] = matplotlib.colors.rgb2hex(c)\n",
    "    for l, c in zip(grps['english'], sns.color_palette(\"YlGn\", 4)[1:]):\n",
    "        color_key[l] = matplotlib.colors.rgb2hex(c)\n",
    "    color_key[\"ingredient\"] = \"#777777bb\"\n",
    "    \n",
    "    new_names = []\n",
    "    for key, value in grps.items():\n",
    "        new_names = new_names + value\n",
    "\n",
    "    label_name['new_label'] = [new_name for x in label_name.country for new_name in new_names if x in new_name]\n",
    "    \n",
    "    return(recipes, recipes_label_id, ingredients_id, label_name, color_key)"
   ]
  },
  {
   "cell_type": "raw",
   "id": "7727c640-2509-4179-bfe2-b29de4aa8862",
   "metadata": {},
   "source": [
    "ingredients_id = pd.read_csv('../data/cat-edge-Cooking/node-labels.txt', sep='\\t', header=None)\n",
    "ingredients_id.index = [x+1 for x in ingredients_id.index]\n",
    "ingredients_id.columns = ['Ingredient']\n",
    "ingredients_id"
   ]
  },
  {
   "cell_type": "raw",
   "id": "a3423e30-c84e-4ff8-bbd5-fa94b24caca2",
   "metadata": {},
   "source": [
    "recipes_with_id = []\n",
    "with open('../data/cat-edge-Cooking/hyperedges.txt', newline = '') as hyperedges:\n",
    "    hyperedge_reader = csv.reader(hyperedges, delimiter='\\t')\n",
    "    for hyperedge in hyperedge_reader:\n",
    "        recipes_with_id.append(hyperedge)"
   ]
  },
  {
   "cell_type": "raw",
   "id": "4684f10c-cd88-4fef-acca-7446ba92561b",
   "metadata": {},
   "source": [
    "recipes_all = [[ingredients_id.loc[int(i)]['Ingredient'] for i in x] for x in recipes_with_id]"
   ]
  },
  {
   "cell_type": "raw",
   "id": "7aaa530a-0e90-44c1-a419-5d6d1b0ced34",
   "metadata": {},
   "source": [
    "recipes_all[0]"
   ]
  },
  {
   "cell_type": "markdown",
   "id": "415e5467-7fc2-4c7b-abd0-4fbcfdc6ca5e",
   "metadata": {},
   "source": [
    "### Careful: some recipes have no ingredient left after the ingredient pruning (based on frequency)\n",
    "\n",
    "We have inspect it and it only happens to recipes containing a single ingredient. We will remove those recipes"
   ]
  },
  {
   "cell_type": "raw",
   "id": "568b88a9-8895-47a7-bcec-70a82dcafaa4",
   "metadata": {},
   "source": [
    "keep_recipes = np.where(np.array([len(x) for x in recipes_all])>1)[0]\n",
    "recipes = [recipes_all[i] for i in keep_recipes]"
   ]
  },
  {
   "cell_type": "raw",
   "id": "312dd05f-c31d-4011-bab0-a91c453f08fc",
   "metadata": {},
   "source": [
    "print(f'{len(recipes_all)} recipes total')\n",
    "print(f'{len(recipes)} recipes with two ingredients and more')"
   ]
  },
  {
   "cell_type": "raw",
   "id": "a0f752e2-cdf3-4614-9e13-eb21c6b03d45",
   "metadata": {},
   "source": [
    "recipes_label_id_all = pd.read_csv('../data/cat-edge-Cooking/hyperedge-labels.txt', sep='\\t', header=None)\n",
    "recipes_label_id_all.columns = ['label']\n",
    "recipes_label_id = recipes_label_id_all.iloc[keep_recipes].reset_index()\n",
    "\n",
    "label_name = pd.read_csv('../data/cat-edge-Cooking/hyperedge-label-identities.txt', sep='\\t', header=None)\n",
    "label_name.columns = ['country']\n",
    "label_name.index = [x+1 for x in label_name.index]"
   ]
  },
  {
   "cell_type": "code",
   "execution_count": 4,
   "id": "d6fb0e9d-4cf3-4ccf-bbb1-8d0c30156df9",
   "metadata": {},
   "outputs": [],
   "source": [
    "grps_tmp = {\n",
    "    'asian' : ('chinese', 'filipino', 'japanese','korean', 'thai', 'vietnamese'),\n",
    "    'american' : ('brazilian', 'mexican', 'southern_us'),\n",
    "    'english' : ('british', 'irish'),\n",
    "    'islands' : ('cajun_creole', 'jamaican'),\n",
    "    'europe' : ('french', 'italian', 'spanish'),\n",
    "    'others' : ('greek', 'indian', 'moroccan', 'russian')\n",
    "}\n",
    "\n",
    "grps = {key:[key+'.'+x for x in value] for key, value in grps_tmp.items()}\n",
    "\n",
    "\n",
    "color_key = {}\n",
    "for l, c in zip(grps['asian'], sns.color_palette(\"Blues\", 6)[0:]):\n",
    "    color_key[l] = matplotlib.colors.rgb2hex(c)\n",
    "for l, c in zip(grps['american'], sns.color_palette(\"Purples\", 4)[1:]):\n",
    "    color_key[l] = matplotlib.colors.rgb2hex(c)\n",
    "for l, c in zip(grps['others'], sns.color_palette(\"YlOrRd\", 4)):\n",
    "    color_key[l] = matplotlib.colors.rgb2hex(c)\n",
    "for l, c in zip(grps['europe'], sns.color_palette(\"light:teal\", 4)[1:]):\n",
    "    color_key[l] = matplotlib.colors.rgb2hex(c)\n",
    "for l, c in zip(grps['islands'], sns.color_palette(\"light:#660033\", 4)[1:3]):\n",
    "    color_key[l] = matplotlib.colors.rgb2hex(c)\n",
    "for l, c in zip(grps['english'], sns.color_palette(\"YlGn\", 4)[1:]):\n",
    "    color_key[l] = matplotlib.colors.rgb2hex(c)\n",
    "color_key[\"ingredient\"] = \"#777777bb\""
   ]
  },
  {
   "cell_type": "code",
   "execution_count": 5,
   "id": "e508f6c3-bde1-45c3-8f79-21376360fe3a",
   "metadata": {},
   "outputs": [
    {
     "data": {
      "text/plain": [
       "{'asian.chinese': '#dbe9f6',\n",
       " 'asian.filipino': '#bad6eb',\n",
       " 'asian.japanese': '#89bedc',\n",
       " 'asian.korean': '#539ecd',\n",
       " 'asian.thai': '#2b7bba',\n",
       " 'asian.vietnamese': '#0b559f',\n",
       " 'american.brazilian': '#b6b6d8',\n",
       " 'american.mexican': '#8683bd',\n",
       " 'american.southern_us': '#61409b',\n",
       " 'others.greek': '#fee187',\n",
       " 'others.indian': '#feab49',\n",
       " 'others.moroccan': '#fc5b2e',\n",
       " 'others.russian': '#d41020',\n",
       " 'europe.french': '#9bcdcd',\n",
       " 'europe.italian': '#4da6a6',\n",
       " 'europe.spanish': '#008080',\n",
       " 'islands.cajun_creole': '#c4a0b1',\n",
       " 'islands.jamaican': '#955072',\n",
       " 'english.british': '#a2d88a',\n",
       " 'english.irish': '#4cb063',\n",
       " 'ingredient': '#777777bb'}"
      ]
     },
     "execution_count": 5,
     "metadata": {},
     "output_type": "execute_result"
    }
   ],
   "source": [
    "color_key"
   ]
  },
  {
   "cell_type": "raw",
   "id": "2b43f47b-fb3d-4353-90e5-aea829e13d66",
   "metadata": {},
   "source": [
    "new_names = []\n",
    "for key, value in grps.items():\n",
    "    new_names = new_names + value\n",
    "\n",
    "label_name['new_label'] = [new_name for x in label_name.country for new_name in new_names if x in new_name]"
   ]
  },
  {
   "cell_type": "markdown",
   "id": "5472d625-2fc1-4afc-a1c5-17f6ab2fc692",
   "metadata": {},
   "source": [
    "With a dataset and a carefully designed color palette we are in good shape to do some analysis of different embedding methods using UMAP to obtain visualizations of the embeddings. \n",
    "\n",
    "## Save this Dataset\n",
    "Let's save this as a dataset for easy re-use in our other notebooks, and add the color palette to the metadata of the dataset. \n",
    "\n",
    "Note: This Dataset has already been added to the catalog and the following cells do not need to be run again. They are included here as a reference."
   ]
  },
  {
   "cell_type": "code",
   "execution_count": 9,
   "id": "458bd7ef-3727-4e02-9b16-5c223f3891fa",
   "metadata": {},
   "outputs": [],
   "source": [
    "# from src.helpers import notebook_as_transformer"
   ]
  },
  {
   "cell_type": "code",
   "execution_count": 10,
   "id": "9fd76335-d49d-4982-852f-4f98597684ae",
   "metadata": {},
   "outputs": [],
   "source": [
    "# new_dataset_name = f'{ds_in.name}_pruned'\n",
    "# new_data = news_data\n",
    "# new_target = targets\n",
    "# new_metadata = ds_in.metadata.copy()\n",
    "# new_metadata['color_key'] = color_key\n",
    "# added_descr_txt = f\"\"\"\\n This dataset is a subselection of the {ds_in.name} Dataset where we have pruned out any post less than {prune_limit} \\\n",
    "# characters ({prune_limit} is chosen somewhat arbitrarily). A custom `color_key` can be found in the metadata.\"\"\"\n",
    "# new_metadata['descr'] += added_descr_txt\n",
    "\n",
    "# new_ds = Dataset(dataset_name=new_dataset_name, data=new_data, target=new_target,\n",
    "#                  metadata=new_metadata)\n"
   ]
  },
  {
   "cell_type": "code",
   "execution_count": 11,
   "id": "4a279bef-aabb-4bfc-8257-b38259ca253d",
   "metadata": {},
   "outputs": [
    {
     "name": "stderr",
     "output_type": "stream",
     "text": [
      "2023-03-30 14:06:53,120 - datasets - WARNING - Overwrite_catalog=True but generate=False. Not overwriting Dataset catalog entry for '20_newsgroups_pruned'\n"
     ]
    }
   ],
   "source": [
    "# # Due to various design choiced in Jupyter, we need to specify this name manually.\n",
    "# nbname = '00-20-newsgroups-setup.ipynb'\n",
    "# dsdict = notebook_as_transformer(notebook_name=nbname,\n",
    "#                                  input_datasets=[ds_in],\n",
    "#                                  output_datasets=[new_ds],\n",
    "#                                  overwrite_catalog=True)"
   ]
  },
  {
   "cell_type": "code",
   "execution_count": null,
   "id": "31643cb4-25a7-4cd1-9882-3555014981b8",
   "metadata": {},
   "outputs": [],
   "source": []
  }
 ],
 "metadata": {
  "kernelspec": {
   "display_name": "tnt_env",
   "language": "python",
   "name": "tnt_env"
  },
  "language_info": {
   "codemirror_mode": {
    "name": "ipython",
    "version": 3
   },
   "file_extension": ".py",
   "mimetype": "text/x-python",
   "name": "python",
   "nbconvert_exporter": "python",
   "pygments_lexer": "ipython3",
   "version": "3.10.8"
  }
 },
 "nbformat": 4,
 "nbformat_minor": 5
}
