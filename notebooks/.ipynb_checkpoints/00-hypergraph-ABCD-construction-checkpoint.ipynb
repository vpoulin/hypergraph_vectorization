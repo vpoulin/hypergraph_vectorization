{
 "cells": [
  {
   "cell_type": "markdown",
   "id": "cdd1b4c4-2b53-41c2-9edc-7dc06f3ff5ae",
   "metadata": {},
   "source": [
    "## Constructing a hypergraph"
   ]
  },
  {
   "cell_type": "code",
   "execution_count": 1,
   "id": "a880faa5-9a33-4226-b821-9c54d2f13689",
   "metadata": {},
   "outputs": [],
   "source": [
    "import os"
   ]
  },
  {
   "cell_type": "code",
   "execution_count": 6,
   "id": "31643cb4-25a7-4cd1-9882-3555014981b8",
   "metadata": {},
   "outputs": [],
   "source": [
    "save_path = '/disk/home/vmpouli/Hypergraphs/data/h-ABCD/'\n",
    "code_path = '/disk/home/vmpouli/Hypergraphs/ABCDHypergraphGenerator.jl-main/utils/abcdh.jl'\n",
    "julia = '/disk/home/vmpouli/Julia/julia-1.8.5/bin/julia'\n",
    "\n",
    "n_nodes = 10000\n",
    "degrees = '2.5,5,100'\n",
    "communities = '1.5,500,1000'\n",
    "noise_level = 0.5\n",
    "hyperedge_sizes = '0.0,0.0,0.1,0.3,0.2,0.1,0.1,0.05,0.05,0.05,0.05'\n",
    "outfile = f'{save_path}result_{str(int(noise_level*100))}' \n",
    "\n",
    "cmd_line = f'{julia} --project {code_path} -n {n_nodes} -d {degrees} -c {communities} -x {noise_level} -q {hyperedge_sizes} -w :linear -s 1234 -o {outfile}'"
   ]
  },
  {
   "cell_type": "code",
   "execution_count": 7,
   "id": "ad0df1ad-9436-4d0d-a4c4-a7b80733d92c",
   "metadata": {},
   "outputs": [
    {
     "data": {
      "text/plain": [
       "'/disk/home/vmpouli/Julia/julia-1.8.5/bin/julia --project /disk/home/vmpouli/Hypergraphs/ABCDHypergraphGenerator.jl-main/utils/abcdh.jl -n 10000 -d 2.5,5,100 -c 1.5,500,1000 -x 0.5 -q 0.0,0.0,0.1,0.3,0.2,0.1,0.1,0.05,0.05,0.05,0.05 -w :linear -s 1234 -o /disk/home/vmpouli/Hypergraphs/data/h-ABCD/result_50'"
      ]
     },
     "execution_count": 7,
     "metadata": {},
     "output_type": "execute_result"
    }
   ],
   "source": [
    "cmd_line"
   ]
  },
  {
   "cell_type": "code",
   "execution_count": 8,
   "id": "0c617096-c429-4437-a6f3-3f869ddf30c1",
   "metadata": {},
   "outputs": [
    {
     "name": "stderr",
     "output_type": "stream",
     "text": [
      "  No Changes to `~/.julia/environments/v1.8/Project.toml`\n",
      "  No Changes to `~/.julia/environments/v1.8/Manifest.toml`\n",
      "ERROR: LoadError: ArgumentError: Package ArgParse not found in current path.\n",
      "- Run `import Pkg; Pkg.add(\"ArgParse\")` to install the ArgParse package.\n",
      "Stacktrace:\n",
      " [1] macro expansion\n",
      "   @ ./loading.jl:1163 [inlined]\n",
      " [2] macro expansion\n",
      "   @ ./lock.jl:223 [inlined]\n",
      " [3] require(into::Module, mod::Symbol)\n",
      "   @ Base ./loading.jl:1144\n",
      "in expression starting at /disk/home/vmpouli/Hypergraphs/ABCDHypergraphGenerator.jl-main/utils/abcdh.jl:5\n"
     ]
    },
    {
     "data": {
      "text/plain": [
       "256"
      ]
     },
     "execution_count": 8,
     "metadata": {},
     "output_type": "execute_result"
    }
   ],
   "source": [
    "os.system(cmd_line)"
   ]
  },
  {
   "cell_type": "code",
   "execution_count": null,
   "id": "7c466f86-45a4-4a00-bffc-d265b61bd02a",
   "metadata": {},
   "outputs": [],
   "source": []
  }
 ],
 "metadata": {
  "kernelspec": {
   "display_name": "vectorizers_playground",
   "language": "python",
   "name": "vectorizers_playground"
  },
  "language_info": {
   "codemirror_mode": {
    "name": "ipython",
    "version": 3
   },
   "file_extension": ".py",
   "mimetype": "text/x-python",
   "name": "python",
   "nbconvert_exporter": "python",
   "pygments_lexer": "ipython3",
   "version": "3.8.16"
  }
 },
 "nbformat": 4,
 "nbformat_minor": 5
}
