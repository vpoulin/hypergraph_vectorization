{
 "cells": [
  {
   "cell_type": "markdown",
   "id": "44ca61e4-9152-4d97-8c0b-a7c0599c263c",
   "metadata": {},
   "source": [
    "# Comparing Hypergraph Embeddings\n",
    "\n",
    "The goal of this notebook is to use the tools in the [Tutte Institute ``vectorizers`` library](https://github.com/TutteInstitute/vectorizers) to construct document embeddings, and to compare those document embeddings with results from other popular techniques. We will compare embeddings obtained by the following techniques:\n",
    "* TF-IDF (sklearn)\n",
    "* Information Weighted Embedding (vectorizers library)\n",
    "* Wasserstein Embedding (vectorizers library)\n",
    "* Approximate Wasserstein Embedding (vectorizers library)\n",
    "\n",
    "We will compare these techniques qualitatively using the advanced eyeball test (via dimension reduction using UMAP) as well as by quantitatively using a downstream classification task.\n",
    "\n",
    "At this point ``vectorizers`` is still a research project, so this is not meant to be a rigorous comparison but rather a demonstration of general relative performance, and to show off the potential for non-neural net based approaches."
   ]
  },
  {
   "cell_type": "markdown",
   "id": "cb3bfb81-3427-4e3b-ab10-6c6eb0f64d01",
   "metadata": {},
   "source": [
    "### Setup"
   ]
  },
  {
   "cell_type": "code",
   "execution_count": 1,
   "id": "432e30ac",
   "metadata": {},
   "outputs": [],
   "source": [
    "# from src import paths\n",
    "# from src.data import Dataset"
   ]
  },
  {
   "cell_type": "code",
   "execution_count": 2,
   "id": "98c21936",
   "metadata": {},
   "outputs": [],
   "source": [
    "import numpy as np\n",
    "import pandas as pd\n",
    "import matplotlib.pyplot as plt\n",
    "import sklearn.datasets\n",
    "import sklearn.feature_extraction.text\n",
    "import sklearn.preprocessing\n",
    "import scipy.sparse\n",
    "import vectorizers\n",
    "import vectorizers.transformers\n",
    "import umap\n",
    "import umap.plot\n",
    "import pynndescent\n",
    "import seaborn as sns\n",
    "import warnings\n",
    "      \n",
    "warnings.simplefilter(\"ignore\")\n",
    "sns.set()"
   ]
  },
  {
   "cell_type": "markdown",
   "id": "622c6d04",
   "metadata": {},
   "source": [
    "We will need some data to work with. For the purposes of this demo we will make use of the 20 newsgroups dataset. Even though 20 newsgroups is a toy dataset, it offers enough complications to show how we can piece together document embeddings using ``vectorizers``. We've cleaned it up a little and created a custom color paletted as in `00-20-newsgroups-setup.ipynb`."
   ]
  },
  {
   "cell_type": "code",
   "execution_count": 3,
   "id": "914e4b26-b86b-46c1-ac39-3e826bf78160",
   "metadata": {},
   "outputs": [],
   "source": [
    "execfile('./00-data-setup.py')\n",
    "recipes, recipes_label_id, ingredients_id, label_name, color_key = read_format_recipes()\n",
    "recipes_label = [label_name.loc[i]['new_label'] for i in recipes_label_id.label]"
   ]
  },
  {
   "cell_type": "markdown",
   "id": "515a766a",
   "metadata": {},
   "source": [
    "# Vectorizers library"
   ]
  },
  {
   "cell_type": "code",
   "execution_count": 4,
   "id": "93de65c1",
   "metadata": {},
   "outputs": [
    {
     "name": "stdout",
     "output_type": "stream",
     "text": [
      "CPU times: user 140 µs, sys: 2 µs, total: 142 µs\n",
      "Wall time: 144 µs\n"
     ]
    }
   ],
   "source": [
    "%%time\n",
    "cv = sklearn.feature_extraction.text.CountVectorizer(lowercase=True)\n",
    "sk_word_tokenize = cv.build_tokenizer()\n",
    "sk_preprocesser = cv.build_preprocessor()"
   ]
  },
  {
   "cell_type": "code",
   "execution_count": 5,
   "id": "a323ef72",
   "metadata": {},
   "outputs": [
    {
     "name": "stdout",
     "output_type": "stream",
     "text": [
      "CPU times: user 14.7 s, sys: 523 ms, total: 15.2 s\n",
      "Wall time: 13.6 s\n"
     ]
    }
   ],
   "source": [
    "%%time\n",
    "long_list = max(len(x) for x in recipes)\n",
    "ingredient_vectorizer = vectorizers.TokenCooccurrenceVectorizer(\n",
    "    min_document_occurrences=5,\n",
    "    window_radii=long_list,          \n",
    "    window_functions='fixed',\n",
    "    kernel_functions='flat',            \n",
    "    n_iter = 0,\n",
    "    normalize_windows=True,\n",
    ").fit(recipes)\n",
    "ingredient_vectors = ingredient_vectorizer.reduce_dimension(dimension=60, algorithm=\"randomized\")"
   ]
  },
  {
   "cell_type": "markdown",
   "id": "3c3c85f9",
   "metadata": {},
   "source": [
    "These operations are relatively quick because it is matter of counting things and applying standard linear algebra techniques. This produces serviceable word vectors which are specifically trained on our corpus and cover the idiomatic usage of various words within the particular context of the 20 newsgroups dataset."
   ]
  },
  {
   "cell_type": "markdown",
   "id": "f6420bf6",
   "metadata": {},
   "source": [
    "### Step 1: Bag-of-words Embedding\n",
    "\n",
    "The next step in the process is to get a document embedding, that is, obtain document vectors. Since we will be using the word vectors that we've learned later, we will restrict our document embedding to the same vocabulary as the word vectors. \n",
    "\n",
    "To start with let's create a bag-of-words model. For that, we'll use the ``NgramVectorizer`` which is the vectorizer libraries \"sequence of tokens\" counterpart to the text specific ``CountVectorizer`` from sklearn.\n"
   ]
  },
  {
   "cell_type": "code",
   "execution_count": 6,
   "id": "1409047e",
   "metadata": {},
   "outputs": [
    {
     "name": "stdout",
     "output_type": "stream",
     "text": [
      "CPU times: user 7.58 s, sys: 206 ms, total: 7.79 s\n",
      "Wall time: 1.89 s\n"
     ]
    }
   ],
   "source": [
    "%%time\n",
    "doc_matrix = vectorizers.NgramVectorizer(\n",
    "    token_dictionary=ingredient_vectorizer.token_label_dictionary_\n",
    ").fit_transform(recipes)"
   ]
  },
  {
   "cell_type": "code",
   "execution_count": null,
   "id": "9427c42d-6601-4924-9ccf-34f1ddabbc88",
   "metadata": {},
   "outputs": [
    {
     "name": "stderr",
     "output_type": "stream",
     "text": [
      "OMP: Info #276: omp_set_nested routine deprecated, please use omp_set_max_active_levels instead.\n"
     ]
    }
   ],
   "source": [
    "%%time\n",
    "unsupervised_doc_mapper = umap.UMAP(metric=\"hellinger\", random_state=42).fit(doc_matrix)"
   ]
  },
  {
   "cell_type": "code",
   "execution_count": null,
   "id": "af7dbb2f-4095-46ef-ad13-74824555989e",
   "metadata": {},
   "outputs": [],
   "source": [
    "umap.plot.points(\n",
    "    unsupervised_doc_mapper,\n",
    "    labels=np.array(recipes_label),\n",
    "    color_key=color_key,\n",
    "    background=\"black\",\n",
    "    width=1024,\n",
    "    height=1024,\n",
    ")\n",
    "plt.savefig(\"figures/no_weight_unsupervised.png\", facecolor=\"none\")"
   ]
  },
  {
   "cell_type": "markdown",
   "id": "92d791ff",
   "metadata": {},
   "source": [
    "### Step 2: Information Weight Embedding\n",
    "\n",
    "Not all words are equally informative. For example, \"the\" and \"embedding\" contain different amounts of information in a sentence. Since each feature column of our bag-of-words representation corresponds to a word, we would like to have a feature weighting scheme that can account for the different amounts of information coming from each word.\n",
    "\n",
    "This is behind the thinking of the classic TF-IDF approach; words are weighted according to the (log of the) inverse frequency of document occurrences of the word. While this can be effective, it is a little ad-hoc. We will make this approach more explicit using of the ``InformationWeightTransformer`` from ``vectorizers``.\n",
    "\n",
    "The ``InformationWeightTransformer`` takes an information theoretic view to generating feature weights for count data. To determine a weight for how \"informative\" a word is, we look at the amount of information gained by using the actual observed distribution of occurrences of the word among documents instead of a baseline distribution (the distribution of occurrences assuming the word occurred uniformly randomly in the text). We can enhance this a by making use of a Bayesian prior on the distribution (ensuring that infrequent words aren't artificially deemed to be informative).\n",
    "\n",
    "The ``InformationWeightTransformer`` can go a step further as well. Instead of looking at information gain from distributions over documents, we can also factor in information gain from distributions over *document labels* if we happen to have label information for our documents. In this case we do have label information, the newsgroup of the document, but in many cases we may not.\n",
    "\n",
    "To show the full range of options we'll take both approaches--an unsupervised approach which does not see any label information, and the supervised approach where we can take advantage of distributions over labels to determine feature weights."
   ]
  },
  {
   "cell_type": "code",
   "execution_count": null,
   "id": "7e199072",
   "metadata": {},
   "outputs": [],
   "source": [
    "%%time\n",
    "unsupervised_info_doc_matrix = vectorizers.transformers.InformationWeightTransformer(\n",
    "    prior_strength=1e-1,\n",
    "    approx_prior=False,\n",
    ").fit_transform(doc_matrix)\n",
    "\n",
    "supervised_info_doc_matrix = vectorizers.transformers.InformationWeightTransformer(\n",
    "    prior_strength=1e-1,\n",
    "    approx_prior=False,\n",
    ").fit_transform(doc_matrix, recipes_label)"
   ]
  },
  {
   "cell_type": "markdown",
   "id": "365e3f73",
   "metadata": {},
   "source": [
    "This is a remarkably efficient process! To see the impact of re-weighting the features on our document embedding, we'll use UMAP again."
   ]
  },
  {
   "cell_type": "code",
   "execution_count": null,
   "id": "1ac0450a",
   "metadata": {},
   "outputs": [],
   "source": [
    "%%time\n",
    "unsupervised_info_doc_mapper = umap.UMAP(metric=\"hellinger\", random_state=42).fit(unsupervised_info_doc_matrix)\n",
    "supervised_info_doc_mapper = umap.UMAP(metric=\"hellinger\", random_state=42).fit(supervised_info_doc_matrix)"
   ]
  },
  {
   "cell_type": "markdown",
   "id": "b56b19d9",
   "metadata": {},
   "source": [
    "First let's look at the unsupervised case, achieved only by looking at distributions over documents and with no label information whatsoever."
   ]
  },
  {
   "cell_type": "code",
   "execution_count": null,
   "id": "8e4c52fe",
   "metadata": {},
   "outputs": [],
   "source": [
    "umap.plot.points(\n",
    "    unsupervised_info_doc_mapper,\n",
    "    labels=np.array(recipes_label),\n",
    "    color_key=color_key,\n",
    "    background=\"black\",\n",
    "    width=1024,\n",
    "    height=1024,\n",
    ")\n",
    "# plt.savefig(paths['figures_path'] / \"info_weight_unsupervised.png\", facecolor=\"none\")\n",
    "plt.savefig(\"figures/info_weight_unsupervised.png\", facecolor=\"none\")"
   ]
  },
  {
   "cell_type": "markdown",
   "id": "61cfc519",
   "metadata": {},
   "source": [
    "This looks like a huge improvement over the raw bag-of-words approach and all we have done is reweight the columns. From a visual inspection this looks at least somewhat comparable to the BERT embedding. That is pretty impressive for such a simple and cheap transformation of the bag-of-words document model.\n",
    "\n",
    "Let's see what can be achieved with the additional use of label information in deciding how to reweight columns. Keep in mind that we are not tagging rows with label information, we are scaling columns by the amount of information we deem each column to have. The label information is allowing us to upweight columns that appear to be \"informative\" with respect to labels."
   ]
  },
  {
   "cell_type": "code",
   "execution_count": null,
   "id": "803b4566",
   "metadata": {},
   "outputs": [],
   "source": [
    "umap.plot.points(\n",
    "    supervised_info_doc_mapper,\n",
    "    labels=np.array(recipes_label),\n",
    "    color_key=color_key,\n",
    "    background=\"black\",\n",
    "    width=1024,\n",
    "    height=1024,\n",
    "    show_legend=False,\n",
    ")\n",
    "plt.savefig(\"figures/info_weight_supervised.png\", facecolor=\"none\")"
   ]
  },
  {
   "cell_type": "markdown",
   "id": "253bbaad",
   "metadata": {},
   "source": [
    "This is remarkably good! Yes, we made use of label information, but it is not that uncommon to have such some labels on hand. Notably, since we only used that information to derive feature weights, we can easily use this transformer on a training set and apply the learned weights to an unlabeled test set. "
   ]
  },
  {
   "cell_type": "markdown",
   "id": "d02fe239",
   "metadata": {},
   "source": [
    "### Step 3A: Wasserstein Embedding via Linear Algebra Approximation\n",
    "\n",
    "It's time to start applying more sophisticated transformations. We will use the ``ApproximateWassersteinVectorizer`` which applies basic linear algebra transformations to provide heuristic approximations to a linearization of a Wasserstein metric space. Okay, that was a mouthful; let's unpack this in terms of document representation and word vectors.\n",
    "\n",
    "The output from the Information Weighted document embedding are vectors of (weighted) counts of how often each word appears in each document. When we applied UMAP to this embedding, we used Hellinger distance where we view these vectors as defining (multinomial) distributions over our feature space of words.\n",
    "\n",
    "This is all very well, but words are not completely independent of each other (which a multinomial distribution would assume). Some words are similar; other words are completely unrelated. In other words we have a metric space of words. And indeed we already have a metric space of words as defined by our word vectors as long as we have a suitable distance function.\n",
    "\n",
    "Since our word vectors are computed as distributions, measuring the distance between these word vectors requires measuring distances between distributions. So then, how do we measure distances between distributions over metric spaces? Not Hellinger distance anymore, but Wasserstein distance. Unfortunately Wasserstein distance is exceedingly expensive to compute; in this case it is effectively the same as [Word Mover Distance](http://proceedings.mlr.press/v37/kusnerb15.pdf) with our custom feature weighting. We can plug Wasserstein distance into UMAP and get a 2D embedding, but it will take a hours and hours to compute.\n",
    "\n",
    "To take a different approach, what if we could transform our data so that cosine distance in the transformed space was closely correlated with Wasserstein distance in the original space? Then applying UMAP with cosine distance on the transformed space would approximate UMAP with Wasserstein distance on the original space. \n",
    "\n",
    "Let's begin by trying quick and dirty transformations that only require simple linear algebra operations to do this. We will compare this to a theoretically sound approach in the next example.\n",
    "\n",
    "We will apply basis transformations and rescalings to combine the word vectors with the document representations. The result will be document vectors with the same dimensionality as our word vectors that heuristically provide an approximation to the theory-based approaches we'll be trying next. \n",
    "\n",
    "The `vectorizers` library provides this functionality in the ``ApproximateWassersteinVectorizer`` which takes as input a sparse matrix where each row represents a (potentially scaled) distribution over some space, and vectors which can provide a representation of the space itself. In our case, we will take the Information Weighted document matrices we have constructed together with the word vectors (which provide a vector representation of the feature columns of the document matrices).\n",
    "\n",
    "We will apply this transformation to both the unsupervised version of our document matrix, and the supervised version, which took label information into account when generating column reweighting. We'll try each in turn to see how the different options perform."
   ]
  },
  {
   "cell_type": "code",
   "execution_count": null,
   "id": "196197a0",
   "metadata": {},
   "outputs": [],
   "source": [
    "%%time\n",
    "lat_vectors_unsupervised = vectorizers.ApproximateWassersteinVectorizer(\n",
    "    normalization_power=0.66,\n",
    "    random_state=42,\n",
    ").fit_transform(unsupervised_info_doc_matrix, vectors=ingredient_vectors)"
   ]
  },
  {
   "cell_type": "code",
   "execution_count": null,
   "id": "c911a244",
   "metadata": {},
   "outputs": [],
   "source": [
    "%%time\n",
    "lat_vectors_supervised = vectorizers.ApproximateWassersteinVectorizer(\n",
    "    normalization_power=0.66,\n",
    "    random_state=42,\n",
    ").fit_transform(supervised_info_doc_matrix, vectors=ingredient_vectors)"
   ]
  },
  {
   "cell_type": "markdown",
   "id": "2510ead9",
   "metadata": {},
   "source": [
    "Note that this was an incredibly cheap operation to compute since it was all handled under-the-hood by simple linear algebra operations of basis change and rescaling. As usual we can UMAP the results and see what we get."
   ]
  },
  {
   "cell_type": "code",
   "execution_count": null,
   "id": "beab4927",
   "metadata": {},
   "outputs": [],
   "source": [
    "%%time\n",
    "unsupervised_lat_mapper = umap.UMAP(metric=\"cosine\", random_state=42).fit(lat_vectors_unsupervised)\n",
    "supervised_lat_mapper = umap.UMAP(metric=\"cosine\", random_state=42).fit(lat_vectors_supervised)"
   ]
  },
  {
   "cell_type": "code",
   "execution_count": null,
   "id": "f2d13ae0",
   "metadata": {},
   "outputs": [],
   "source": [
    "fig = plt.figure(figsize=(16, 16))\n",
    "umap.plot.points(\n",
    "    supervised_lat_mapper,\n",
    "    labels=np.array(recipes_label),\n",
    "    color_key=color_key,\n",
    "    background=\"black\",\n",
    "    width=1024,\n",
    "    height=1024,\n",
    "    show_legend=False,\n",
    ")\n",
    "legend_elements = [\n",
    "    matplotlib.patches.Patch(facecolor=color, label=label)\n",
    "    for label, color in color_key.items()\n",
    "]\n",
    "fig.legend(legend_elements, color_key.keys(), loc=\"center right\", bbox_to_anchor=(1.175, 0.5), borderaxespad=0.0)\n",
    "# fig.tight_layout()\n",
    "fig.savefig(\"figures/approximate_wasserstein.png\", facecolor=\"none\")"
   ]
  },
  {
   "cell_type": "markdown",
   "id": "fa4ad6be",
   "metadata": {},
   "source": [
    "This is now looking remarkably good. The different newsgroups, which were already starting to separate have been mostly teased apart, and are starting to clump into distinct clusters. There are, of course, a number of outliers and patches where different newsgroups mix, but by and large this is an excellent result, both at the scale of individual newsgroups, and in the broader categories of newsgroup as seen via the custom colormap. "
   ]
  },
  {
   "cell_type": "markdown",
   "id": "88215f1c",
   "metadata": {},
   "source": [
    "## Qualitative comparison\n",
    "\n",
    "Let's put all the different document embeddings we've produced here side-by-side so we can see them all at once. To make the comparison easier, we'll use a little Procrustes alignment to bring all the different UMAP embeddings into roughly the same position (UMAP is insensitive to rotations and reflections). Fortunately ``vectorizers`` has tools for this."
   ]
  },
  {
   "cell_type": "raw",
   "id": "095cd766-c7f5-4d45-94a8-4730bb752472",
   "metadata": {},
   "source": [
    "from vectorizers.utils import procrustes_align"
   ]
  },
  {
   "cell_type": "raw",
   "id": "62905f14-ee37-4a26-89b3-425ec9924ba9",
   "metadata": {},
   "source": [
    "supervised_lat_mapper.embedding_, unsupervised_info_doc_mapper.embedding_ = procrustes_align(\n",
    "    supervised_lat_mapper.embedding_, unsupervised_info_doc_mapper.embedding_\n",
    ")\n",
    "supervised_lat_mapper.embedding_, supervised_info_doc_mapper.embedding_ = procrustes_align(\n",
    "    supervised_lat_mapper.embedding_, supervised_info_doc_mapper.embedding_\n",
    ")\n",
    "supervised_lat_mapper.embedding_, unsupervised_lat_mapper.embedding_ = procrustes_align(\n",
    "    supervised_lat_mapper.embedding_, unsupervised_lat_mapper.embedding_\n",
    ")"
   ]
  },
  {
   "cell_type": "markdown",
   "id": "81327476",
   "metadata": {},
   "source": [
    "Next up is a big plotting cell to generate a grid of plots and then place all the different embeddings."
   ]
  },
  {
   "cell_type": "raw",
   "id": "94086fe3-fe89-402c-9f1a-0ab81cf5a847",
   "metadata": {},
   "source": [
    "fig, axs = plt.subplots(2, 2, figsize=(16, 16))\n",
    "umap.plot.points(\n",
    "    unsupervised_info_doc_mapper,\n",
    "    labels=np.array(recipes_label),\n",
    "    color_key=color_key,\n",
    "    background=\"black\",\n",
    "    show_legend=False,\n",
    "    ax=axs[0,0]\n",
    ")\n",
    "axs[0, 0].set_title(\"Information Weighted\", fontsize=24)\n",
    "umap.plot.points(\n",
    "    supervised_info_doc_mapper,\n",
    "    labels=np.array(recipes_label),\n",
    "    color_key=color_key,\n",
    "    background=\"black\",\n",
    "    show_legend=False,\n",
    "    ax=axs[0,1]\n",
    ")\n",
    "axs[0, 1].set_title(\"Supervised Information Weighted\", fontsize=24)\n",
    "umap.plot.points(\n",
    "    unsupervised_lat_mapper,\n",
    "    labels=np.array(recipes_label),\n",
    "    color_key=color_key,\n",
    "    background=\"black\",\n",
    "    show_legend=False,\n",
    "    ax=axs[1,0]\n",
    ")\n",
    "axs[1, 0].set_title(\"Approximate Wasserstein\", fontsize=24)\n",
    "umap.plot.points(\n",
    "    supervised_lat_mapper,\n",
    "    labels=np.array(recipes_label),\n",
    "    color_key=color_key,\n",
    "    background=\"black\",\n",
    "    show_legend=False,\n",
    "    ax=axs[1,1]\n",
    ")\n",
    "axs[1, 1].set_title(\"Approximate Wasserstein\\n(Supervised Feature Weights)\", fontsize=24)\n",
    "legend_elements = [\n",
    "    matplotlib.patches.Patch(facecolor=color, label=label)\n",
    "    for label, color in color_key.items()\n",
    "]\n",
    "fig.legend(legend_elements, color_key.keys(), loc=\"center right\", bbox_to_anchor=(1.175, 0.5), borderaxespad=0.0)\n",
    "# fig.tight_layout()\n",
    "# fig.savefig(paths['figures_path'] / \"document_embedding_comparison_vectorizer_v_deep_learning.png\")"
   ]
  },
  {
   "cell_type": "markdown",
   "id": "e801807d",
   "metadata": {},
   "source": [
    "All of the vectorizers embeddings appear to be comparable to USE. Even the unsupervised feature weighting results in the left hand column are all excellent, with the raw feature reweighting as good or better than the BERT embedding, and the linear algebra and linear optimal transport based approaches looking as good or better than USE. These are excellent results for such a simple approach."
   ]
  },
  {
   "cell_type": "markdown",
   "id": "f2b05a67",
   "metadata": {},
   "source": [
    "## Downstream Task Comparison\n",
    "\n",
    "Given how good the qualitative comparison looks, it's worth checking some cold hard numbers. Especially to make sure that we haven't skewed things with the dimension reduction step. Let's see how the different embeddings fare at the downstream task of classifying the newsgroup posts.\n",
    "\n",
    "In an ideal world a good document embedding should be good at this. We'll even branch out and try this over a variety of different sklearn classifiers as well (but mostly with default settings). This will not be a comprehensive benchmarking at downstream tasks (you should use something like SentEval for that), but rather a quick sketch to see roughly how these approaches compare in practice."
   ]
  },
  {
   "cell_type": "code",
   "execution_count": null,
   "id": "1be6a6ca",
   "metadata": {},
   "outputs": [],
   "source": [
    "import sklearn.model_selection\n",
    "import sklearn.ensemble\n",
    "import sklearn.linear_model\n",
    "import sklearn.neural_network\n",
    "import sklearn.neighbors\n",
    "\n",
    "from sklearn.experimental import enable_hist_gradient_boosting"
   ]
  },
  {
   "cell_type": "markdown",
   "id": "34165bb6",
   "metadata": {},
   "source": [
    "We'll also add TF-IDF and the raw information weighted matrices -- but use an SVD to get those down to 512 dimensions rather than the giant sparse matrices they are since the latter will break (or grind to a halt) some of our classifiers."
   ]
  },
  {
   "cell_type": "code",
   "execution_count": null,
   "id": "f57526af",
   "metadata": {},
   "outputs": [],
   "source": [
    "tfidf_doc_matrix = sklearn.feature_extraction.text.TfidfTransformer().fit_transform(doc_matrix)\n",
    "bow_512 = sklearn.decomposition.TruncatedSVD(n_components=60, n_iter=20).fit_transform(doc_matrix)\n",
    "tfidf_512 = sklearn.decomposition.TruncatedSVD(n_components=60, n_iter=20).fit_transform(tfidf_doc_matrix)\n",
    "info_512 = sklearn.decomposition.TruncatedSVD(n_components=60, n_iter=20).fit_transform(unsupervised_info_doc_matrix)\n",
    "sinfo_512 = sklearn.decomposition.TruncatedSVD(n_components=60, n_iter=20).fit_transform(supervised_info_doc_matrix)"
   ]
  },
  {
   "cell_type": "markdown",
   "id": "707f0647",
   "metadata": {},
   "source": [
    "We are going to cut a few corners since this isn't a comprehensive benchmark (we want others to successfully run this example without taking forever). In particular, we are not going to repeatedly do a full test-train split,  and push only the training data all the way through all the transformations, and then evaluate on test. Instead we'll do a cross validation on the document embeddings we've already built.\n",
    "\n",
    "This is cheating a little--our word embedding gets to see data in the test set, and our supervised information weighting is seeing label data from the test set. Thus, you should take these results with the requisite grains of salt.\n",
    "\n",
    "With that said we have benchmarked all of these approaches properly with the full splits and processing and the results were largely the same. However, it does take an ungodly amount of time to run for 20 different splits. It is worth noting that BERT and USE have seen considerably more information for their (internal) word vectors, and USE has been trained on a wide variety of downstream tasks with label information."
   ]
  },
  {
   "cell_type": "code",
   "execution_count": null,
   "id": "14f7dcc1",
   "metadata": {},
   "outputs": [],
   "source": [
    "def cross_validate(model, data, recipes_label, n_splits=20, test_ratio=0.1, random_seed=42):\n",
    "    splitter = sklearn.model_selection.ShuffleSplit(\n",
    "        n_splits=n_splits, test_size=test_ratio, random_state=random_seed\n",
    "    )\n",
    "    result = sklearn.model_selection.cross_val_score(model, data, recipes_label, cv=splitter)\n",
    "    return result\n",
    "\n",
    "def cross_validation_dataframe(model, feature_sets, recipes_label, n_splits=20, test_ratio=0.1, random_seed=42):\n",
    "    dfs = []\n",
    "    for feature_space_name, feature_space in feature_sets.items():\n",
    "        cv_scores = cross_validate(model, feature_space, recipes_label, n_splits, test_ratio, random_seed)\n",
    "        feature_df = pd.DataFrame(\n",
    "            {\n",
    "                \"run\" : np.arange(n_splits), \n",
    "                \"Embedding\" : feature_space_name,\n",
    "                \"Model\" : model.__repr__().split(\"(\")[0],\n",
    "                \"Accuracy\" : cv_scores\n",
    "            }\n",
    "        )\n",
    "        if np.mean(cv_scores) > 0.5:\n",
    "            dfs.append(feature_df)\n",
    "    return pd.concat(dfs)"
   ]
  },
  {
   "cell_type": "markdown",
   "id": "ae538942",
   "metadata": {},
   "source": [
    "Now we need a set of different models to try, and the different feature sets to use. First we'll try a `KNeighborsClassifier` since performing well with that classifier will mean that the document embedding is faithful at preserving neighborhoods. Then we'll try a couple of tree-based techniques with `HistGradientBoostingClassifier` and `RandomForestsClassifier`, and finally a quick `MLPClassifier` so we can say we used neural networks."
   ]
  },
  {
   "cell_type": "code",
   "execution_count": null,
   "id": "f98c7438",
   "metadata": {},
   "outputs": [],
   "source": [
    "models = [\n",
    "    sklearn.neighbors.KNeighborsClassifier(metric=\"cosine\", n_neighbors=10, weights=\"distance\"),\n",
    "    sklearn.ensemble.HistGradientBoostingClassifier(),\n",
    "    sklearn.ensemble.RandomForestClassifier(),\n",
    "    sklearn.neural_network.MLPClassifier(hidden_layer_sizes=(100, 80, 40))\n",
    "]\n",
    "feature_sets = {\n",
    "    \"Count\": bow_512,\n",
    "    \"TF-IDF\": tfidf_512,\n",
    "    \"InfoWeighted\": info_512,\n",
    "    \"A-Wasserstein\": lat_vectors_unsupervised,\n",
    "    # \"Supervised-A-Wasserstein\": lat_vectors_supervised,\n",
    "}"
   ]
  },
  {
   "cell_type": "markdown",
   "id": "727d1bcf",
   "metadata": {},
   "source": [
    "Now we reun the cross validation across all the models and all the feature sets. Be forewarned if you run this, it will take quite a while."
   ]
  },
  {
   "cell_type": "raw",
   "id": "ccdc6721-8fd9-4a95-a065-86825ad8aa1d",
   "metadata": {
    "tags": []
   },
   "source": [
    "%%time\n",
    "df_all = pd.concat(\n",
    "    [\n",
    "        cross_validation_dataframe(\n",
    "            model, \n",
    "            feature_sets,\n",
    "            recipes_label,\n",
    "        )\n",
    "        for model in models\n",
    "    ]\n",
    ")"
   ]
  },
  {
   "cell_type": "code",
   "execution_count": 34,
   "id": "19de522c-ab87-4dc3-8554-43d7f217c143",
   "metadata": {},
   "outputs": [
    {
     "name": "stdout",
     "output_type": "stream",
     "text": [
      "KNeighborsClassifier(metric='cosine', n_neighbors=10, weights='distance')\n",
      "HistGradientBoostingClassifier()\n",
      "RandomForestClassifier()\n",
      "MLPClassifier(hidden_layer_sizes=(100, 80, 40))\n",
      "CPU times: user 3d 7h 42s, sys: 3h 53min 33s, total: 3d 10h 54min 16s\n",
      "Wall time: 7h 39min 37s\n"
     ]
    }
   ],
   "source": [
    "%%time\n",
    "results = []\n",
    "for model in models:\n",
    "    print(model)\n",
    "    res = cross_validation_dataframe(\n",
    "        model, \n",
    "        feature_sets,\n",
    "        recipes_label,\n",
    "    )\n",
    "    results.append(res)\n",
    "\n",
    "df_all = pd.concat( results )"
   ]
  },
  {
   "cell_type": "code",
   "execution_count": 35,
   "id": "4b382c82-7d7a-47f1-9a0d-19882b4ff557",
   "metadata": {},
   "outputs": [],
   "source": [
    "df = df_all"
   ]
  },
  {
   "cell_type": "markdown",
   "id": "4485dd79",
   "metadata": {},
   "source": [
    "Finally we plot the results. We'll make some good use of seaborn to get a good looking comparison out."
   ]
  },
  {
   "cell_type": "code",
   "execution_count": 36,
   "id": "12bcf2ac",
   "metadata": {},
   "outputs": [
    {
     "data": {
      "image/png": "[encoded data removed]",
      "text/plain": [
       "<Figure size 1600x1600 with 4 Axes>"
      ]
     },
     "metadata": {},
     "output_type": "display_data"
    }
   ],
   "source": [
    "g = sns.catplot(\n",
    "    kind=\"swarm\", \n",
    "    x=\"Embedding\", \n",
    "    y=\"Accuracy\", \n",
    "    col=\"Model\",\n",
    "    col_wrap=2,\n",
    "    data=df[df.Accuracy >= 0.5], \n",
    "    height=8, \n",
    "    alpha=0.5,\n",
    "    zorder=1,\n",
    ")\n",
    "g.map_dataframe(\n",
    "    sns.pointplot, \n",
    "    x=\"Embedding\", \n",
    "    y=\"Accuracy\", \n",
    "    color=\"Model\", \n",
    "    data=df[df.Accuracy >= 0.5], \n",
    "    # height=6, \n",
    "    # aspect=1.3,\n",
    "    palette=\"dark\",\n",
    "    join=False,\n",
    "    order=[\n",
    "        \"Count\",\n",
    "        \"TF-IDF\", \n",
    "        \"InfoWeighted\", \n",
    "        \"A-Wasserstein\"\n",
    "    ],\n",
    "    ci=\"sd\",\n",
    "    # zorder=2,\n",
    "    scale=0.9,\n",
    ")\n",
    "g.set_titles(col_template=\"{col_name}\")\n",
    "g.set_xticklabels([\n",
    "    \"Raw counts\",\n",
    "    \"TF-IDF\", \n",
    "    \"Info\\nWeighted\", \n",
    "    \"Aproximate\\nWasserstein\"\n",
    "])\n",
    "g.savefig(\"figures/recipe_embedding_comparison_downstream_task.png\", facecolor=\"none\")"
   ]
  },
  {
   "cell_type": "code",
   "execution_count": null,
   "id": "4f7e4652-0395-49ac-9d54-f90ece52a04b",
   "metadata": {},
   "outputs": [],
   "source": [
    "g = sns.catplot(\n",
    "    kind=\"swarm\", \n",
    "    x=\"Embedding\", \n",
    "    y=\"Accuracy\", \n",
    "    col=\"Model\",\n",
    "    col_wrap=2,\n",
    "    data=df[df.Accuracy >= 0.5], \n",
    "    height=8, \n",
    "    alpha=0.5,\n",
    "    zorder=1,\n",
    ")\n",
    "g.map_dataframe(\n",
    "    sns.pointplot, \n",
    "    x=\"Embedding\", \n",
    "    y=\"Accuracy\", \n",
    "    color=\"Model\", \n",
    "    data=df[df.Accuracy >= 0.5], \n",
    "    # height=6, \n",
    "    # aspect=1.3,\n",
    "    palette=\"dark\",\n",
    "    join=False,\n",
    "    order=[\n",
    "        \"Count\",\n",
    "        \"TF-IDF\", \n",
    "        \"InfoWeighted\", \n",
    "        \"A-Wasserstein\"\n",
    "    ],\n",
    "    ci=\"sd\",\n",
    "    # zorder=2,\n",
    "    scale=0.9,\n",
    ")\n",
    "g.set_titles(col_template=\"{col_name}\")\n",
    "g.set_xticklabels([\n",
    "    \"Raw counts\",\n",
    "    \"TF-IDF\", \n",
    "    \"Info\\nWeighted\", \n",
    "    \"Aproximate\\nWasserstein\"\n",
    "])\n",
    "g.savefig(\"figures/recipe_embedding_comparison_downstream_task.png\", facecolor=\"none\")"
   ]
  },
  {
   "cell_type": "markdown",
   "id": "8a76ca43",
   "metadata": {},
   "source": [
    "And here are our quantitative results -- with appropriate caveats and salt grains. \n",
    "\n",
    "* **TF-IDF comparable to BERT**: The BERT based sentence embedder seems to perform surprisingly poorly in general on this dataset, regardless of the classifier used. In many cases it is quite comparable to straight-forward TF-IDF. Likely a better use of BERT than the out-of-the-box method we used here could provide better results. \n",
    "* **Information Weighting performs better than TF-IDF**: The other surprise is the information weighting. Theoretically, we would expect this to be roughly comparable to TF-IDF as it is a similar style of feature weighting. In practice, it seems to perform remarkably well under many of the classifiers, often scoring better than USE even in the unsupervised case. \n",
    "* **(Approximate) Wasserstein wins**: Finally both the linear algebra approximation and the optimal transport versions of the Wasserstein embedding perform well consistently across of all the classifiers. While the supervised case has an edge for some classifiers, the difference isn't that large, and even the unsupervised cases are consistently better performing than USE at this task on the 20 newsgroups dataset."
   ]
  }
 ],
 "metadata": {
  "kernelspec": {
   "display_name": "TNT env",
   "language": "python",
   "name": "tnt_env"
  },
  "language_info": {
   "codemirror_mode": {
    "name": "ipython",
    "version": 3
   },
   "file_extension": ".py",
   "mimetype": "text/x-python",
   "name": "python",
   "nbconvert_exporter": "python",
   "pygments_lexer": "ipython3",
   "version": "3.10.8"
  }
 },
 "nbformat": 4,
 "nbformat_minor": 5
}
